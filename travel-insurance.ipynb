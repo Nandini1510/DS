{
 "cells": [
  {
   "cell_type": "code",
   "execution_count": 1,
   "id": "692797cf",
   "metadata": {
    "_cell_guid": "b1076dfc-b9ad-4769-8c92-a6c4dae69d19",
    "_uuid": "8f2839f25d086af736a60e9eeb907d3b93b6e0e5",
    "execution": {
     "iopub.execute_input": "2022-06-13T10:19:21.148265Z",
     "iopub.status.busy": "2022-06-13T10:19:21.147737Z",
     "iopub.status.idle": "2022-06-13T10:19:21.166007Z",
     "shell.execute_reply": "2022-06-13T10:19:21.165031Z"
    },
    "papermill": {
     "duration": 0.034777,
     "end_time": "2022-06-13T10:19:21.169372",
     "exception": false,
     "start_time": "2022-06-13T10:19:21.134595",
     "status": "completed"
    },
    "tags": []
   },
   "outputs": [
    {
     "name": "stdout",
     "output_type": "stream",
     "text": [
      "/kaggle/input/travel-insurance/travel insurance.csv\n"
     ]
    }
   ],
   "source": [
    "# This Python 3 environment comes with many helpful analytics libraries installed\n",
    "# It is defined by the kaggle/python Docker image: https://github.com/kaggle/docker-python\n",
    "# For example, here's several helpful packages to load\n",
    "\n",
    "import numpy as np # linear algebra\n",
    "import pandas as pd # data processing, CSV file I/O (e.g. pd.read_csv)\n",
    "\n",
    "# Input data files are available in the read-only \"../input/\" directory\n",
    "# For example, running this (by clicking run or pressing Shift+Enter) will list all files under the input directory\n",
    "\n",
    "import os\n",
    "for dirname, _, filenames in os.walk('/kaggle/input'):\n",
    "    for filename in filenames:\n",
    "        print(os.path.join(dirname, filename))\n",
    "\n",
    "# You can write up to 20GB to the current directory (/kaggle/working/) that gets preserved as output when you create a version using \"Save & Run All\" \n",
    "# You can also write temporary files to /kaggle/temp/, but they won't be saved outside of the current session"
   ]
  },
  {
   "cell_type": "code",
   "execution_count": 2,
   "id": "55a5886d",
   "metadata": {
    "execution": {
     "iopub.execute_input": "2022-06-13T10:19:21.188546Z",
     "iopub.status.busy": "2022-06-13T10:19:21.187872Z",
     "iopub.status.idle": "2022-06-13T10:19:24.502850Z",
     "shell.execute_reply": "2022-06-13T10:19:24.501448Z"
    },
    "papermill": {
     "duration": 3.327128,
     "end_time": "2022-06-13T10:19:24.505522",
     "exception": false,
     "start_time": "2022-06-13T10:19:21.178394",
     "status": "completed"
    },
    "tags": []
   },
   "outputs": [],
   "source": [
    "import pandas as pd\n",
    "import numpy as np\n",
    "import plotly.express as px\n",
    "import seaborn as sns\n",
    "import matplotlib.pyplot as plt\n",
    "\n",
    "from imblearn.over_sampling import SMOTE \n",
    "from sklearn.model_selection import train_test_split\n",
    "from sklearn.ensemble import RandomForestClassifier\n",
    "from sklearn.metrics import accuracy_score, recall_score, confusion_matrix\n",
    "from sklearn.metrics import f1_score"
   ]
  },
  {
   "cell_type": "code",
   "execution_count": 3,
   "id": "84379eb8",
   "metadata": {
    "execution": {
     "iopub.execute_input": "2022-06-13T10:19:24.523605Z",
     "iopub.status.busy": "2022-06-13T10:19:24.522868Z",
     "iopub.status.idle": "2022-06-13T10:19:24.708966Z",
     "shell.execute_reply": "2022-06-13T10:19:24.707826Z"
    },
    "papermill": {
     "duration": 0.198666,
     "end_time": "2022-06-13T10:19:24.711901",
     "exception": false,
     "start_time": "2022-06-13T10:19:24.513235",
     "status": "completed"
    },
    "tags": []
   },
   "outputs": [
    {
     "data": {
      "text/html": [
       "<div>\n",
       "<style scoped>\n",
       "    .dataframe tbody tr th:only-of-type {\n",
       "        vertical-align: middle;\n",
       "    }\n",
       "\n",
       "    .dataframe tbody tr th {\n",
       "        vertical-align: top;\n",
       "    }\n",
       "\n",
       "    .dataframe thead th {\n",
       "        text-align: right;\n",
       "    }\n",
       "</style>\n",
       "<table border=\"1\" class=\"dataframe\">\n",
       "  <thead>\n",
       "    <tr style=\"text-align: right;\">\n",
       "      <th></th>\n",
       "      <th>Agency</th>\n",
       "      <th>Agency Type</th>\n",
       "      <th>Distribution Channel</th>\n",
       "      <th>Product Name</th>\n",
       "      <th>Claim</th>\n",
       "      <th>Duration</th>\n",
       "      <th>Destination</th>\n",
       "      <th>Net Sales</th>\n",
       "      <th>Commision (in value)</th>\n",
       "      <th>Gender</th>\n",
       "      <th>Age</th>\n",
       "    </tr>\n",
       "  </thead>\n",
       "  <tbody>\n",
       "    <tr>\n",
       "      <th>0</th>\n",
       "      <td>CBH</td>\n",
       "      <td>Travel Agency</td>\n",
       "      <td>Offline</td>\n",
       "      <td>Comprehensive Plan</td>\n",
       "      <td>No</td>\n",
       "      <td>186</td>\n",
       "      <td>MALAYSIA</td>\n",
       "      <td>-29.0</td>\n",
       "      <td>9.57</td>\n",
       "      <td>F</td>\n",
       "      <td>81</td>\n",
       "    </tr>\n",
       "    <tr>\n",
       "      <th>1</th>\n",
       "      <td>CBH</td>\n",
       "      <td>Travel Agency</td>\n",
       "      <td>Offline</td>\n",
       "      <td>Comprehensive Plan</td>\n",
       "      <td>No</td>\n",
       "      <td>186</td>\n",
       "      <td>MALAYSIA</td>\n",
       "      <td>-29.0</td>\n",
       "      <td>9.57</td>\n",
       "      <td>F</td>\n",
       "      <td>71</td>\n",
       "    </tr>\n",
       "    <tr>\n",
       "      <th>2</th>\n",
       "      <td>CWT</td>\n",
       "      <td>Travel Agency</td>\n",
       "      <td>Online</td>\n",
       "      <td>Rental Vehicle Excess Insurance</td>\n",
       "      <td>No</td>\n",
       "      <td>65</td>\n",
       "      <td>AUSTRALIA</td>\n",
       "      <td>-49.5</td>\n",
       "      <td>29.70</td>\n",
       "      <td>NaN</td>\n",
       "      <td>32</td>\n",
       "    </tr>\n",
       "    <tr>\n",
       "      <th>3</th>\n",
       "      <td>CWT</td>\n",
       "      <td>Travel Agency</td>\n",
       "      <td>Online</td>\n",
       "      <td>Rental Vehicle Excess Insurance</td>\n",
       "      <td>No</td>\n",
       "      <td>60</td>\n",
       "      <td>AUSTRALIA</td>\n",
       "      <td>-39.6</td>\n",
       "      <td>23.76</td>\n",
       "      <td>NaN</td>\n",
       "      <td>32</td>\n",
       "    </tr>\n",
       "    <tr>\n",
       "      <th>4</th>\n",
       "      <td>CWT</td>\n",
       "      <td>Travel Agency</td>\n",
       "      <td>Online</td>\n",
       "      <td>Rental Vehicle Excess Insurance</td>\n",
       "      <td>No</td>\n",
       "      <td>79</td>\n",
       "      <td>ITALY</td>\n",
       "      <td>-19.8</td>\n",
       "      <td>11.88</td>\n",
       "      <td>NaN</td>\n",
       "      <td>41</td>\n",
       "    </tr>\n",
       "  </tbody>\n",
       "</table>\n",
       "</div>"
      ],
      "text/plain": [
       "  Agency    Agency Type Distribution Channel                     Product Name  \\\n",
       "0    CBH  Travel Agency              Offline               Comprehensive Plan   \n",
       "1    CBH  Travel Agency              Offline               Comprehensive Plan   \n",
       "2    CWT  Travel Agency               Online  Rental Vehicle Excess Insurance   \n",
       "3    CWT  Travel Agency               Online  Rental Vehicle Excess Insurance   \n",
       "4    CWT  Travel Agency               Online  Rental Vehicle Excess Insurance   \n",
       "\n",
       "  Claim  Duration Destination  Net Sales  Commision (in value) Gender  Age  \n",
       "0    No       186    MALAYSIA      -29.0                  9.57      F   81  \n",
       "1    No       186    MALAYSIA      -29.0                  9.57      F   71  \n",
       "2    No        65   AUSTRALIA      -49.5                 29.70    NaN   32  \n",
       "3    No        60   AUSTRALIA      -39.6                 23.76    NaN   32  \n",
       "4    No        79       ITALY      -19.8                 11.88    NaN   41  "
      ]
     },
     "execution_count": 3,
     "metadata": {},
     "output_type": "execute_result"
    }
   ],
   "source": [
    "df=pd.read_csv('/kaggle/input/travel-insurance/travel insurance.csv')\n",
    "df.head()"
   ]
  },
  {
   "cell_type": "code",
   "execution_count": 4,
   "id": "b750701d",
   "metadata": {
    "execution": {
     "iopub.execute_input": "2022-06-13T10:19:24.731240Z",
     "iopub.status.busy": "2022-06-13T10:19:24.730809Z",
     "iopub.status.idle": "2022-06-13T10:19:24.737126Z",
     "shell.execute_reply": "2022-06-13T10:19:24.736389Z"
    },
    "papermill": {
     "duration": 0.018867,
     "end_time": "2022-06-13T10:19:24.740151",
     "exception": false,
     "start_time": "2022-06-13T10:19:24.721284",
     "status": "completed"
    },
    "tags": []
   },
   "outputs": [
    {
     "data": {
      "text/plain": [
       "(63326, 11)"
      ]
     },
     "execution_count": 4,
     "metadata": {},
     "output_type": "execute_result"
    }
   ],
   "source": [
    "df.shape"
   ]
  },
  {
   "cell_type": "code",
   "execution_count": 5,
   "id": "437e0765",
   "metadata": {
    "execution": {
     "iopub.execute_input": "2022-06-13T10:19:24.760012Z",
     "iopub.status.busy": "2022-06-13T10:19:24.759178Z",
     "iopub.status.idle": "2022-06-13T10:19:24.769020Z",
     "shell.execute_reply": "2022-06-13T10:19:24.767764Z"
    },
    "papermill": {
     "duration": 0.022659,
     "end_time": "2022-06-13T10:19:24.771562",
     "exception": false,
     "start_time": "2022-06-13T10:19:24.748903",
     "status": "completed"
    },
    "tags": []
   },
   "outputs": [],
   "source": [
    "df.rename(columns={ 'Agency Type':'Agency_Type', 'Distribution Channel':'Distribution_Channel', 'Product Name':'Product_Name','Net Sales':'Net_Sales', 'Commision (in value)':'Commision'},inplace=True)"
   ]
  },
  {
   "cell_type": "code",
   "execution_count": 6,
   "id": "2bd0bce0",
   "metadata": {
    "execution": {
     "iopub.execute_input": "2022-06-13T10:19:24.793439Z",
     "iopub.status.busy": "2022-06-13T10:19:24.792744Z",
     "iopub.status.idle": "2022-06-13T10:19:24.862933Z",
     "shell.execute_reply": "2022-06-13T10:19:24.862203Z"
    },
    "papermill": {
     "duration": 0.084548,
     "end_time": "2022-06-13T10:19:24.866263",
     "exception": false,
     "start_time": "2022-06-13T10:19:24.781715",
     "status": "completed"
    },
    "tags": []
   },
   "outputs": [
    {
     "name": "stdout",
     "output_type": "stream",
     "text": [
      "<class 'pandas.core.frame.DataFrame'>\n",
      "RangeIndex: 63326 entries, 0 to 63325\n",
      "Data columns (total 11 columns):\n",
      " #   Column                Non-Null Count  Dtype  \n",
      "---  ------                --------------  -----  \n",
      " 0   Agency                63326 non-null  object \n",
      " 1   Agency_Type           63326 non-null  object \n",
      " 2   Distribution_Channel  63326 non-null  object \n",
      " 3   Product_Name          63326 non-null  object \n",
      " 4   Claim                 63326 non-null  object \n",
      " 5   Duration              63326 non-null  int64  \n",
      " 6   Destination           63326 non-null  object \n",
      " 7   Net_Sales             63326 non-null  float64\n",
      " 8   Commision             63326 non-null  float64\n",
      " 9   Gender                18219 non-null  object \n",
      " 10  Age                   63326 non-null  int64  \n",
      "dtypes: float64(2), int64(2), object(7)\n",
      "memory usage: 5.3+ MB\n"
     ]
    }
   ],
   "source": [
    "df.info()"
   ]
  },
  {
   "cell_type": "code",
   "execution_count": 7,
   "id": "f693d563",
   "metadata": {
    "execution": {
     "iopub.execute_input": "2022-06-13T10:19:24.888719Z",
     "iopub.status.busy": "2022-06-13T10:19:24.888022Z",
     "iopub.status.idle": "2022-06-13T10:19:24.944245Z",
     "shell.execute_reply": "2022-06-13T10:19:24.943041Z"
    },
    "papermill": {
     "duration": 0.071413,
     "end_time": "2022-06-13T10:19:24.947862",
     "exception": false,
     "start_time": "2022-06-13T10:19:24.876449",
     "status": "completed"
    },
    "tags": []
   },
   "outputs": [
    {
     "data": {
      "text/plain": [
       "Agency                      0\n",
       "Agency_Type                 0\n",
       "Distribution_Channel        0\n",
       "Product_Name                0\n",
       "Claim                       0\n",
       "Duration                    0\n",
       "Destination                 0\n",
       "Net_Sales                   0\n",
       "Commision                   0\n",
       "Gender                  45107\n",
       "Age                         0\n",
       "dtype: int64"
      ]
     },
     "execution_count": 7,
     "metadata": {},
     "output_type": "execute_result"
    }
   ],
   "source": [
    "df.isnull().sum()"
   ]
  },
  {
   "cell_type": "code",
   "execution_count": 8,
   "id": "06c0c3be",
   "metadata": {
    "execution": {
     "iopub.execute_input": "2022-06-13T10:19:24.967409Z",
     "iopub.status.busy": "2022-06-13T10:19:24.966976Z",
     "iopub.status.idle": "2022-06-13T10:19:24.991922Z",
     "shell.execute_reply": "2022-06-13T10:19:24.990826Z"
    },
    "papermill": {
     "duration": 0.037933,
     "end_time": "2022-06-13T10:19:24.994241",
     "exception": false,
     "start_time": "2022-06-13T10:19:24.956308",
     "status": "completed"
    },
    "tags": []
   },
   "outputs": [
    {
     "data": {
      "text/html": [
       "<div>\n",
       "<style scoped>\n",
       "    .dataframe tbody tr th:only-of-type {\n",
       "        vertical-align: middle;\n",
       "    }\n",
       "\n",
       "    .dataframe tbody tr th {\n",
       "        vertical-align: top;\n",
       "    }\n",
       "\n",
       "    .dataframe thead th {\n",
       "        text-align: right;\n",
       "    }\n",
       "</style>\n",
       "<table border=\"1\" class=\"dataframe\">\n",
       "  <thead>\n",
       "    <tr style=\"text-align: right;\">\n",
       "      <th></th>\n",
       "      <th>Agency</th>\n",
       "      <th>Agency_Type</th>\n",
       "      <th>Distribution_Channel</th>\n",
       "      <th>Product_Name</th>\n",
       "      <th>Claim</th>\n",
       "      <th>Duration</th>\n",
       "      <th>Destination</th>\n",
       "      <th>Net_Sales</th>\n",
       "      <th>Commision</th>\n",
       "      <th>Age</th>\n",
       "    </tr>\n",
       "  </thead>\n",
       "  <tbody>\n",
       "    <tr>\n",
       "      <th>0</th>\n",
       "      <td>CBH</td>\n",
       "      <td>Travel Agency</td>\n",
       "      <td>Offline</td>\n",
       "      <td>Comprehensive Plan</td>\n",
       "      <td>No</td>\n",
       "      <td>186</td>\n",
       "      <td>MALAYSIA</td>\n",
       "      <td>-29.0</td>\n",
       "      <td>9.57</td>\n",
       "      <td>81</td>\n",
       "    </tr>\n",
       "    <tr>\n",
       "      <th>1</th>\n",
       "      <td>CBH</td>\n",
       "      <td>Travel Agency</td>\n",
       "      <td>Offline</td>\n",
       "      <td>Comprehensive Plan</td>\n",
       "      <td>No</td>\n",
       "      <td>186</td>\n",
       "      <td>MALAYSIA</td>\n",
       "      <td>-29.0</td>\n",
       "      <td>9.57</td>\n",
       "      <td>71</td>\n",
       "    </tr>\n",
       "    <tr>\n",
       "      <th>2</th>\n",
       "      <td>CWT</td>\n",
       "      <td>Travel Agency</td>\n",
       "      <td>Online</td>\n",
       "      <td>Rental Vehicle Excess Insurance</td>\n",
       "      <td>No</td>\n",
       "      <td>65</td>\n",
       "      <td>AUSTRALIA</td>\n",
       "      <td>-49.5</td>\n",
       "      <td>29.70</td>\n",
       "      <td>32</td>\n",
       "    </tr>\n",
       "    <tr>\n",
       "      <th>3</th>\n",
       "      <td>CWT</td>\n",
       "      <td>Travel Agency</td>\n",
       "      <td>Online</td>\n",
       "      <td>Rental Vehicle Excess Insurance</td>\n",
       "      <td>No</td>\n",
       "      <td>60</td>\n",
       "      <td>AUSTRALIA</td>\n",
       "      <td>-39.6</td>\n",
       "      <td>23.76</td>\n",
       "      <td>32</td>\n",
       "    </tr>\n",
       "    <tr>\n",
       "      <th>4</th>\n",
       "      <td>CWT</td>\n",
       "      <td>Travel Agency</td>\n",
       "      <td>Online</td>\n",
       "      <td>Rental Vehicle Excess Insurance</td>\n",
       "      <td>No</td>\n",
       "      <td>79</td>\n",
       "      <td>ITALY</td>\n",
       "      <td>-19.8</td>\n",
       "      <td>11.88</td>\n",
       "      <td>41</td>\n",
       "    </tr>\n",
       "  </tbody>\n",
       "</table>\n",
       "</div>"
      ],
      "text/plain": [
       "  Agency    Agency_Type Distribution_Channel                     Product_Name  \\\n",
       "0    CBH  Travel Agency              Offline               Comprehensive Plan   \n",
       "1    CBH  Travel Agency              Offline               Comprehensive Plan   \n",
       "2    CWT  Travel Agency               Online  Rental Vehicle Excess Insurance   \n",
       "3    CWT  Travel Agency               Online  Rental Vehicle Excess Insurance   \n",
       "4    CWT  Travel Agency               Online  Rental Vehicle Excess Insurance   \n",
       "\n",
       "  Claim  Duration Destination  Net_Sales  Commision  Age  \n",
       "0    No       186    MALAYSIA      -29.0       9.57   81  \n",
       "1    No       186    MALAYSIA      -29.0       9.57   71  \n",
       "2    No        65   AUSTRALIA      -49.5      29.70   32  \n",
       "3    No        60   AUSTRALIA      -39.6      23.76   32  \n",
       "4    No        79       ITALY      -19.8      11.88   41  "
      ]
     },
     "execution_count": 8,
     "metadata": {},
     "output_type": "execute_result"
    }
   ],
   "source": [
    "df=df.drop(['Gender'],axis=1)\n",
    "df.head()\n",
    "#we remove gender coz there are many null values"
   ]
  },
  {
   "cell_type": "code",
   "execution_count": 9,
   "id": "c0fda13a",
   "metadata": {
    "execution": {
     "iopub.execute_input": "2022-06-13T10:19:25.015018Z",
     "iopub.status.busy": "2022-06-13T10:19:25.014002Z",
     "iopub.status.idle": "2022-06-13T10:19:25.919079Z",
     "shell.execute_reply": "2022-06-13T10:19:25.918019Z"
    },
    "papermill": {
     "duration": 0.918366,
     "end_time": "2022-06-13T10:19:25.921854",
     "exception": false,
     "start_time": "2022-06-13T10:19:25.003488",
     "status": "completed"
    },
    "tags": []
   },
   "outputs": [
    {
     "data": {
      "text/plain": [
       "array([[<AxesSubplot:title={'center':'Duration'}>,\n",
       "        <AxesSubplot:title={'center':'Net_Sales'}>],\n",
       "       [<AxesSubplot:title={'center':'Commision'}>,\n",
       "        <AxesSubplot:title={'center':'Age'}>]], dtype=object)"
      ]
     },
     "execution_count": 9,
     "metadata": {},
     "output_type": "execute_result"
    },
    {
     "data": {
      "image/png": "[encoded data removed]",
      "text/plain": [
       "<Figure size 1440x1440 with 4 Axes>"
      ]
     },
     "metadata": {
      "needs_background": "light"
     },
     "output_type": "display_data"
    }
   ],
   "source": [
    "df.hist(figsize=(20,20))"
   ]
  },
  {
   "cell_type": "code",
   "execution_count": 10,
   "id": "edc382d3",
   "metadata": {
    "execution": {
     "iopub.execute_input": "2022-06-13T10:19:25.943494Z",
     "iopub.status.busy": "2022-06-13T10:19:25.943026Z",
     "iopub.status.idle": "2022-06-13T10:19:26.076623Z",
     "shell.execute_reply": "2022-06-13T10:19:26.075560Z"
    },
    "papermill": {
     "duration": 0.147663,
     "end_time": "2022-06-13T10:19:26.079489",
     "exception": false,
     "start_time": "2022-06-13T10:19:25.931826",
     "status": "completed"
    },
    "tags": []
   },
   "outputs": [],
   "source": [
    "from sklearn import preprocessing\n",
    "le=preprocessing.LabelEncoder()\n",
    "df['Agency']=le.fit_transform(df['Agency'])\n",
    "df['Agency_Type']= le.fit_transform(df['Agency_Type'])\n",
    "df['Distribution_Channel']= le.fit_transform(df['Distribution_Channel'])\n",
    "df['Product_Name']= le.fit_transform(df['Product_Name'])\n",
    "df['Claim']= le.fit_transform(df['Claim'])\n",
    "df['Destination']= le.fit_transform(df['Destination'])"
   ]
  },
  {
   "cell_type": "code",
   "execution_count": 11,
   "id": "ca128d23",
   "metadata": {
    "execution": {
     "iopub.execute_input": "2022-06-13T10:19:26.103832Z",
     "iopub.status.busy": "2022-06-13T10:19:26.103406Z",
     "iopub.status.idle": "2022-06-13T10:19:26.229117Z",
     "shell.execute_reply": "2022-06-13T10:19:26.227717Z"
    },
    "papermill": {
     "duration": 0.142092,
     "end_time": "2022-06-13T10:19:26.232840",
     "exception": false,
     "start_time": "2022-06-13T10:19:26.090748",
     "status": "completed"
    },
    "tags": []
   },
   "outputs": [
    {
     "data": {
      "text/plain": [
       "<AxesSubplot:ylabel='Claim'>"
      ]
     },
     "execution_count": 11,
     "metadata": {},
     "output_type": "execute_result"
    },
    {
     "data": {
      "image/png": "[encoded data removed]",
      "text/plain": [
       "<Figure size 432x288 with 1 Axes>"
      ]
     },
     "metadata": {},
     "output_type": "display_data"
    }
   ],
   "source": [
    "df.Claim.value_counts().plot(kind='pie')"
   ]
  },
  {
   "cell_type": "code",
   "execution_count": 12,
   "id": "bc46e535",
   "metadata": {
    "execution": {
     "iopub.execute_input": "2022-06-13T10:19:26.276511Z",
     "iopub.status.busy": "2022-06-13T10:19:26.275145Z",
     "iopub.status.idle": "2022-06-13T10:19:26.294131Z",
     "shell.execute_reply": "2022-06-13T10:19:26.292869Z"
    },
    "papermill": {
     "duration": 0.045048,
     "end_time": "2022-06-13T10:19:26.298006",
     "exception": false,
     "start_time": "2022-06-13T10:19:26.252958",
     "status": "completed"
    },
    "tags": []
   },
   "outputs": [],
   "source": [
    "col=[\"Agency\", \"Agency_Type\", \"Distribution_Channel\",\"Product_Name\",\"Duration\",\"Destination\",\"Net_Sales\",\"Commision\",\"Age\",\"Claim\"]\n",
    "df=df.reindex(columns=col)"
   ]
  },
  {
   "cell_type": "code",
   "execution_count": 13,
   "id": "a730b6df",
   "metadata": {
    "execution": {
     "iopub.execute_input": "2022-06-13T10:19:26.330210Z",
     "iopub.status.busy": "2022-06-13T10:19:26.329805Z",
     "iopub.status.idle": "2022-06-13T10:19:27.124245Z",
     "shell.execute_reply": "2022-06-13T10:19:27.123157Z"
    },
    "papermill": {
     "duration": 0.812802,
     "end_time": "2022-06-13T10:19:27.128211",
     "exception": false,
     "start_time": "2022-06-13T10:19:26.315409",
     "status": "completed"
    },
    "tags": []
   },
   "outputs": [
    {
     "data": {
      "text/plain": [
       "<AxesSubplot:>"
      ]
     },
     "execution_count": 13,
     "metadata": {},
     "output_type": "execute_result"
    },
    {
     "data": {
      "image/png": "[encoded data removed]",
      "text/plain": [
       "<Figure size 864x720 with 2 Axes>"
      ]
     },
     "metadata": {
      "needs_background": "light"
     },
     "output_type": "display_data"
    }
   ],
   "source": [
    "plt.figure(figsize=(12,10))\n",
    "sns.heatmap(df.corr(),annot=True,cmap='Blues')\n",
    "#all values are less than 0.7 so we dont do anything"
   ]
  },
  {
   "cell_type": "code",
   "execution_count": 14,
   "id": "af043305",
   "metadata": {
    "execution": {
     "iopub.execute_input": "2022-06-13T10:19:27.155148Z",
     "iopub.status.busy": "2022-06-13T10:19:27.154486Z",
     "iopub.status.idle": "2022-06-13T10:19:27.163640Z",
     "shell.execute_reply": "2022-06-13T10:19:27.162577Z"
    },
    "papermill": {
     "duration": 0.024676,
     "end_time": "2022-06-13T10:19:27.166373",
     "exception": false,
     "start_time": "2022-06-13T10:19:27.141697",
     "status": "completed"
    },
    "tags": []
   },
   "outputs": [],
   "source": [
    "y=df.iloc[:,[-1]]\n",
    "x=df.drop(\"Claim\",axis=1)"
   ]
  },
  {
   "cell_type": "code",
   "execution_count": 15,
   "id": "7cbf30e0",
   "metadata": {
    "execution": {
     "iopub.execute_input": "2022-06-13T10:19:27.193502Z",
     "iopub.status.busy": "2022-06-13T10:19:27.193067Z",
     "iopub.status.idle": "2022-06-13T10:19:27.213786Z",
     "shell.execute_reply": "2022-06-13T10:19:27.212585Z"
    },
    "papermill": {
     "duration": 0.038272,
     "end_time": "2022-06-13T10:19:27.216526",
     "exception": false,
     "start_time": "2022-06-13T10:19:27.178254",
     "status": "completed"
    },
    "tags": []
   },
   "outputs": [
    {
     "data": {
      "text/html": [
       "<div>\n",
       "<style scoped>\n",
       "    .dataframe tbody tr th:only-of-type {\n",
       "        vertical-align: middle;\n",
       "    }\n",
       "\n",
       "    .dataframe tbody tr th {\n",
       "        vertical-align: top;\n",
       "    }\n",
       "\n",
       "    .dataframe thead th {\n",
       "        text-align: right;\n",
       "    }\n",
       "</style>\n",
       "<table border=\"1\" class=\"dataframe\">\n",
       "  <thead>\n",
       "    <tr style=\"text-align: right;\">\n",
       "      <th></th>\n",
       "      <th>Agency</th>\n",
       "      <th>Agency_Type</th>\n",
       "      <th>Distribution_Channel</th>\n",
       "      <th>Product_Name</th>\n",
       "      <th>Duration</th>\n",
       "      <th>Destination</th>\n",
       "      <th>Net_Sales</th>\n",
       "      <th>Commision</th>\n",
       "      <th>Age</th>\n",
       "    </tr>\n",
       "  </thead>\n",
       "  <tbody>\n",
       "    <tr>\n",
       "      <th>0</th>\n",
       "      <td>3</td>\n",
       "      <td>1</td>\n",
       "      <td>0</td>\n",
       "      <td>12</td>\n",
       "      <td>186</td>\n",
       "      <td>79</td>\n",
       "      <td>-29.0</td>\n",
       "      <td>9.57</td>\n",
       "      <td>81</td>\n",
       "    </tr>\n",
       "    <tr>\n",
       "      <th>1</th>\n",
       "      <td>3</td>\n",
       "      <td>1</td>\n",
       "      <td>0</td>\n",
       "      <td>12</td>\n",
       "      <td>186</td>\n",
       "      <td>79</td>\n",
       "      <td>-29.0</td>\n",
       "      <td>9.57</td>\n",
       "      <td>71</td>\n",
       "    </tr>\n",
       "    <tr>\n",
       "      <th>2</th>\n",
       "      <td>6</td>\n",
       "      <td>1</td>\n",
       "      <td>1</td>\n",
       "      <td>16</td>\n",
       "      <td>65</td>\n",
       "      <td>4</td>\n",
       "      <td>-49.5</td>\n",
       "      <td>29.70</td>\n",
       "      <td>32</td>\n",
       "    </tr>\n",
       "    <tr>\n",
       "      <th>3</th>\n",
       "      <td>6</td>\n",
       "      <td>1</td>\n",
       "      <td>1</td>\n",
       "      <td>16</td>\n",
       "      <td>60</td>\n",
       "      <td>4</td>\n",
       "      <td>-39.6</td>\n",
       "      <td>23.76</td>\n",
       "      <td>32</td>\n",
       "    </tr>\n",
       "    <tr>\n",
       "      <th>4</th>\n",
       "      <td>6</td>\n",
       "      <td>1</td>\n",
       "      <td>1</td>\n",
       "      <td>16</td>\n",
       "      <td>79</td>\n",
       "      <td>61</td>\n",
       "      <td>-19.8</td>\n",
       "      <td>11.88</td>\n",
       "      <td>41</td>\n",
       "    </tr>\n",
       "    <tr>\n",
       "      <th>...</th>\n",
       "      <td>...</td>\n",
       "      <td>...</td>\n",
       "      <td>...</td>\n",
       "      <td>...</td>\n",
       "      <td>...</td>\n",
       "      <td>...</td>\n",
       "      <td>...</td>\n",
       "      <td>...</td>\n",
       "      <td>...</td>\n",
       "    </tr>\n",
       "    <tr>\n",
       "      <th>63321</th>\n",
       "      <td>9</td>\n",
       "      <td>0</td>\n",
       "      <td>1</td>\n",
       "      <td>8</td>\n",
       "      <td>111</td>\n",
       "      <td>63</td>\n",
       "      <td>35.0</td>\n",
       "      <td>12.25</td>\n",
       "      <td>31</td>\n",
       "    </tr>\n",
       "    <tr>\n",
       "      <th>63322</th>\n",
       "      <td>9</td>\n",
       "      <td>0</td>\n",
       "      <td>1</td>\n",
       "      <td>8</td>\n",
       "      <td>58</td>\n",
       "      <td>26</td>\n",
       "      <td>40.0</td>\n",
       "      <td>14.00</td>\n",
       "      <td>40</td>\n",
       "    </tr>\n",
       "    <tr>\n",
       "      <th>63323</th>\n",
       "      <td>9</td>\n",
       "      <td>0</td>\n",
       "      <td>1</td>\n",
       "      <td>8</td>\n",
       "      <td>2</td>\n",
       "      <td>79</td>\n",
       "      <td>18.0</td>\n",
       "      <td>6.30</td>\n",
       "      <td>57</td>\n",
       "    </tr>\n",
       "    <tr>\n",
       "      <th>63324</th>\n",
       "      <td>9</td>\n",
       "      <td>0</td>\n",
       "      <td>1</td>\n",
       "      <td>8</td>\n",
       "      <td>3</td>\n",
       "      <td>145</td>\n",
       "      <td>18.0</td>\n",
       "      <td>6.30</td>\n",
       "      <td>63</td>\n",
       "    </tr>\n",
       "    <tr>\n",
       "      <th>63325</th>\n",
       "      <td>9</td>\n",
       "      <td>0</td>\n",
       "      <td>1</td>\n",
       "      <td>8</td>\n",
       "      <td>22</td>\n",
       "      <td>53</td>\n",
       "      <td>26.0</td>\n",
       "      <td>9.10</td>\n",
       "      <td>35</td>\n",
       "    </tr>\n",
       "  </tbody>\n",
       "</table>\n",
       "<p>63326 rows × 9 columns</p>\n",
       "</div>"
      ],
      "text/plain": [
       "       Agency  Agency_Type  Distribution_Channel  Product_Name  Duration  \\\n",
       "0           3            1                     0            12       186   \n",
       "1           3            1                     0            12       186   \n",
       "2           6            1                     1            16        65   \n",
       "3           6            1                     1            16        60   \n",
       "4           6            1                     1            16        79   \n",
       "...       ...          ...                   ...           ...       ...   \n",
       "63321       9            0                     1             8       111   \n",
       "63322       9            0                     1             8        58   \n",
       "63323       9            0                     1             8         2   \n",
       "63324       9            0                     1             8         3   \n",
       "63325       9            0                     1             8        22   \n",
       "\n",
       "       Destination  Net_Sales  Commision  Age  \n",
       "0               79      -29.0       9.57   81  \n",
       "1               79      -29.0       9.57   71  \n",
       "2                4      -49.5      29.70   32  \n",
       "3                4      -39.6      23.76   32  \n",
       "4               61      -19.8      11.88   41  \n",
       "...            ...        ...        ...  ...  \n",
       "63321           63       35.0      12.25   31  \n",
       "63322           26       40.0      14.00   40  \n",
       "63323           79       18.0       6.30   57  \n",
       "63324          145       18.0       6.30   63  \n",
       "63325           53       26.0       9.10   35  \n",
       "\n",
       "[63326 rows x 9 columns]"
      ]
     },
     "execution_count": 15,
     "metadata": {},
     "output_type": "execute_result"
    }
   ],
   "source": [
    "x"
   ]
  },
  {
   "cell_type": "code",
   "execution_count": 16,
   "id": "b8242b32",
   "metadata": {
    "execution": {
     "iopub.execute_input": "2022-06-13T10:19:27.244819Z",
     "iopub.status.busy": "2022-06-13T10:19:27.243724Z",
     "iopub.status.idle": "2022-06-13T10:19:27.255579Z",
     "shell.execute_reply": "2022-06-13T10:19:27.254612Z"
    },
    "papermill": {
     "duration": 0.02972,
     "end_time": "2022-06-13T10:19:27.257974",
     "exception": false,
     "start_time": "2022-06-13T10:19:27.228254",
     "status": "completed"
    },
    "tags": []
   },
   "outputs": [
    {
     "data": {
      "text/html": [
       "<div>\n",
       "<style scoped>\n",
       "    .dataframe tbody tr th:only-of-type {\n",
       "        vertical-align: middle;\n",
       "    }\n",
       "\n",
       "    .dataframe tbody tr th {\n",
       "        vertical-align: top;\n",
       "    }\n",
       "\n",
       "    .dataframe thead th {\n",
       "        text-align: right;\n",
       "    }\n",
       "</style>\n",
       "<table border=\"1\" class=\"dataframe\">\n",
       "  <thead>\n",
       "    <tr style=\"text-align: right;\">\n",
       "      <th></th>\n",
       "      <th>Claim</th>\n",
       "    </tr>\n",
       "  </thead>\n",
       "  <tbody>\n",
       "    <tr>\n",
       "      <th>0</th>\n",
       "      <td>0</td>\n",
       "    </tr>\n",
       "    <tr>\n",
       "      <th>1</th>\n",
       "      <td>0</td>\n",
       "    </tr>\n",
       "    <tr>\n",
       "      <th>2</th>\n",
       "      <td>0</td>\n",
       "    </tr>\n",
       "    <tr>\n",
       "      <th>3</th>\n",
       "      <td>0</td>\n",
       "    </tr>\n",
       "    <tr>\n",
       "      <th>4</th>\n",
       "      <td>0</td>\n",
       "    </tr>\n",
       "    <tr>\n",
       "      <th>...</th>\n",
       "      <td>...</td>\n",
       "    </tr>\n",
       "    <tr>\n",
       "      <th>63321</th>\n",
       "      <td>0</td>\n",
       "    </tr>\n",
       "    <tr>\n",
       "      <th>63322</th>\n",
       "      <td>0</td>\n",
       "    </tr>\n",
       "    <tr>\n",
       "      <th>63323</th>\n",
       "      <td>0</td>\n",
       "    </tr>\n",
       "    <tr>\n",
       "      <th>63324</th>\n",
       "      <td>0</td>\n",
       "    </tr>\n",
       "    <tr>\n",
       "      <th>63325</th>\n",
       "      <td>0</td>\n",
       "    </tr>\n",
       "  </tbody>\n",
       "</table>\n",
       "<p>63326 rows × 1 columns</p>\n",
       "</div>"
      ],
      "text/plain": [
       "       Claim\n",
       "0          0\n",
       "1          0\n",
       "2          0\n",
       "3          0\n",
       "4          0\n",
       "...      ...\n",
       "63321      0\n",
       "63322      0\n",
       "63323      0\n",
       "63324      0\n",
       "63325      0\n",
       "\n",
       "[63326 rows x 1 columns]"
      ]
     },
     "execution_count": 16,
     "metadata": {},
     "output_type": "execute_result"
    }
   ],
   "source": [
    "y"
   ]
  },
  {
   "cell_type": "code",
   "execution_count": 17,
   "id": "60640417",
   "metadata": {
    "execution": {
     "iopub.execute_input": "2022-06-13T10:19:27.285246Z",
     "iopub.status.busy": "2022-06-13T10:19:27.284745Z",
     "iopub.status.idle": "2022-06-13T10:19:27.451717Z",
     "shell.execute_reply": "2022-06-13T10:19:27.450414Z"
    },
    "papermill": {
     "duration": 0.18436,
     "end_time": "2022-06-13T10:19:27.455333",
     "exception": false,
     "start_time": "2022-06-13T10:19:27.270973",
     "status": "completed"
    },
    "tags": []
   },
   "outputs": [
    {
     "data": {
      "text/plain": [
       "<AxesSubplot:ylabel='None'>"
      ]
     },
     "execution_count": 17,
     "metadata": {},
     "output_type": "execute_result"
    },
    {
     "data": {
      "image/png": "[encoded data removed]",
      "text/plain": [
       "<Figure size 432x288 with 1 Axes>"
      ]
     },
     "metadata": {},
     "output_type": "display_data"
    }
   ],
   "source": [
    "sm = SMOTE(random_state=42)\n",
    "xsm, ysm = sm.fit_resample(x, y)\n",
    "ysm.value_counts().plot(kind='pie')"
   ]
  },
  {
   "cell_type": "code",
   "execution_count": 18,
   "id": "b47321dc",
   "metadata": {
    "execution": {
     "iopub.execute_input": "2022-06-13T10:19:27.504727Z",
     "iopub.status.busy": "2022-06-13T10:19:27.502997Z",
     "iopub.status.idle": "2022-06-13T10:19:27.594146Z",
     "shell.execute_reply": "2022-06-13T10:19:27.593207Z"
    },
    "papermill": {
     "duration": 0.117717,
     "end_time": "2022-06-13T10:19:27.596417",
     "exception": false,
     "start_time": "2022-06-13T10:19:27.478700",
     "status": "completed"
    },
    "tags": []
   },
   "outputs": [
    {
     "data": {
      "text/html": [
       "<div>\n",
       "<style scoped>\n",
       "    .dataframe tbody tr th:only-of-type {\n",
       "        vertical-align: middle;\n",
       "    }\n",
       "\n",
       "    .dataframe tbody tr th {\n",
       "        vertical-align: top;\n",
       "    }\n",
       "\n",
       "    .dataframe thead th {\n",
       "        text-align: right;\n",
       "    }\n",
       "</style>\n",
       "<table border=\"1\" class=\"dataframe\">\n",
       "  <thead>\n",
       "    <tr style=\"text-align: right;\">\n",
       "      <th></th>\n",
       "      <th>Agency</th>\n",
       "      <th>Agency_Type</th>\n",
       "      <th>Distribution_Channel</th>\n",
       "      <th>Product_Name</th>\n",
       "      <th>Duration</th>\n",
       "      <th>Destination</th>\n",
       "      <th>Net_Sales</th>\n",
       "      <th>Commision</th>\n",
       "      <th>Age</th>\n",
       "    </tr>\n",
       "  </thead>\n",
       "  <tbody>\n",
       "    <tr>\n",
       "      <th>0</th>\n",
       "      <td>0.2</td>\n",
       "      <td>1.0</td>\n",
       "      <td>0.0</td>\n",
       "      <td>0.48</td>\n",
       "      <td>0.038501</td>\n",
       "      <td>0.533784</td>\n",
       "      <td>0.300250</td>\n",
       "      <td>0.033757</td>\n",
       "      <td>0.686441</td>\n",
       "    </tr>\n",
       "    <tr>\n",
       "      <th>1</th>\n",
       "      <td>0.2</td>\n",
       "      <td>1.0</td>\n",
       "      <td>0.0</td>\n",
       "      <td>0.48</td>\n",
       "      <td>0.038501</td>\n",
       "      <td>0.533784</td>\n",
       "      <td>0.300250</td>\n",
       "      <td>0.033757</td>\n",
       "      <td>0.601695</td>\n",
       "    </tr>\n",
       "    <tr>\n",
       "      <th>2</th>\n",
       "      <td>0.4</td>\n",
       "      <td>1.0</td>\n",
       "      <td>1.0</td>\n",
       "      <td>0.64</td>\n",
       "      <td>0.013721</td>\n",
       "      <td>0.027027</td>\n",
       "      <td>0.283153</td>\n",
       "      <td>0.104762</td>\n",
       "      <td>0.271186</td>\n",
       "    </tr>\n",
       "    <tr>\n",
       "      <th>3</th>\n",
       "      <td>0.4</td>\n",
       "      <td>1.0</td>\n",
       "      <td>1.0</td>\n",
       "      <td>0.64</td>\n",
       "      <td>0.012697</td>\n",
       "      <td>0.027027</td>\n",
       "      <td>0.291410</td>\n",
       "      <td>0.083810</td>\n",
       "      <td>0.271186</td>\n",
       "    </tr>\n",
       "    <tr>\n",
       "      <th>4</th>\n",
       "      <td>0.4</td>\n",
       "      <td>1.0</td>\n",
       "      <td>1.0</td>\n",
       "      <td>0.64</td>\n",
       "      <td>0.016588</td>\n",
       "      <td>0.412162</td>\n",
       "      <td>0.307923</td>\n",
       "      <td>0.041905</td>\n",
       "      <td>0.347458</td>\n",
       "    </tr>\n",
       "  </tbody>\n",
       "</table>\n",
       "</div>"
      ],
      "text/plain": [
       "   Agency  Agency_Type  Distribution_Channel  Product_Name  Duration  \\\n",
       "0     0.2          1.0                   0.0          0.48  0.038501   \n",
       "1     0.2          1.0                   0.0          0.48  0.038501   \n",
       "2     0.4          1.0                   1.0          0.64  0.013721   \n",
       "3     0.4          1.0                   1.0          0.64  0.012697   \n",
       "4     0.4          1.0                   1.0          0.64  0.016588   \n",
       "\n",
       "   Destination  Net_Sales  Commision       Age  \n",
       "0     0.533784   0.300250   0.033757  0.686441  \n",
       "1     0.533784   0.300250   0.033757  0.601695  \n",
       "2     0.027027   0.283153   0.104762  0.271186  \n",
       "3     0.027027   0.291410   0.083810  0.271186  \n",
       "4     0.412162   0.307923   0.041905  0.347458  "
      ]
     },
     "execution_count": 18,
     "metadata": {},
     "output_type": "execute_result"
    }
   ],
   "source": [
    "from sklearn.preprocessing import MinMaxScaler\n",
    "mms = MinMaxScaler()\n",
    "xn=pd.DataFrame()\n",
    "col=xsm.columns\n",
    "xn[col]=mms.fit_transform(xsm[col])\n",
    "xn.head()\n"
   ]
  },
  {
   "cell_type": "code",
   "execution_count": 19,
   "id": "7032b91f",
   "metadata": {
    "execution": {
     "iopub.execute_input": "2022-06-13T10:19:27.627264Z",
     "iopub.status.busy": "2022-06-13T10:19:27.626691Z",
     "iopub.status.idle": "2022-06-13T10:19:27.662400Z",
     "shell.execute_reply": "2022-06-13T10:19:27.661340Z"
    },
    "papermill": {
     "duration": 0.053783,
     "end_time": "2022-06-13T10:19:27.664876",
     "exception": false,
     "start_time": "2022-06-13T10:19:27.611093",
     "status": "completed"
    },
    "tags": []
   },
   "outputs": [],
   "source": [
    "xt,xtest,yt,ytest=train_test_split(xn,ysm,test_size=0.25,random_state=42)"
   ]
  },
  {
   "cell_type": "code",
   "execution_count": 20,
   "id": "adbb5e28",
   "metadata": {
    "execution": {
     "iopub.execute_input": "2022-06-13T10:19:27.691762Z",
     "iopub.status.busy": "2022-06-13T10:19:27.690491Z",
     "iopub.status.idle": "2022-06-13T10:19:41.818466Z",
     "shell.execute_reply": "2022-06-13T10:19:41.817369Z"
    },
    "papermill": {
     "duration": 14.14394,
     "end_time": "2022-06-13T10:19:41.821067",
     "exception": false,
     "start_time": "2022-06-13T10:19:27.677127",
     "status": "completed"
    },
    "tags": []
   },
   "outputs": [
    {
     "name": "stderr",
     "output_type": "stream",
     "text": [
      "/opt/conda/lib/python3.7/site-packages/ipykernel_launcher.py:2: DataConversionWarning: A column-vector y was passed when a 1d array was expected. Please change the shape of y to (n_samples,), for example using ravel().\n",
      "  \n"
     ]
    }
   ],
   "source": [
    "mod=RandomForestClassifier(random_state=42)\n",
    "mod.fit(xt,yt)\n",
    "pred=mod.predict(xtest)"
   ]
  },
  {
   "cell_type": "code",
   "execution_count": 21,
   "id": "7b0c1de0",
   "metadata": {
    "execution": {
     "iopub.execute_input": "2022-06-13T10:19:41.848780Z",
     "iopub.status.busy": "2022-06-13T10:19:41.848116Z",
     "iopub.status.idle": "2022-06-13T10:19:41.860130Z",
     "shell.execute_reply": "2022-06-13T10:19:41.858846Z"
    },
    "papermill": {
     "duration": 0.028621,
     "end_time": "2022-06-13T10:19:41.862725",
     "exception": false,
     "start_time": "2022-06-13T10:19:41.834104",
     "status": "completed"
    },
    "tags": []
   },
   "outputs": [
    {
     "name": "stdout",
     "output_type": "stream",
     "text": [
      "0.9724679487179487\n"
     ]
    }
   ],
   "source": [
    "print(accuracy_score(ytest,pred))"
   ]
  },
  {
   "cell_type": "code",
   "execution_count": 22,
   "id": "cac17763",
   "metadata": {
    "execution": {
     "iopub.execute_input": "2022-06-13T10:19:41.890600Z",
     "iopub.status.busy": "2022-06-13T10:19:41.890165Z",
     "iopub.status.idle": "2022-06-13T10:19:44.054920Z",
     "shell.execute_reply": "2022-06-13T10:19:44.053461Z"
    },
    "papermill": {
     "duration": 2.182581,
     "end_time": "2022-06-13T10:19:44.057644",
     "exception": false,
     "start_time": "2022-06-13T10:19:41.875063",
     "status": "completed"
    },
    "tags": []
   },
   "outputs": [
    {
     "data": {
      "text/plain": [
       "0.9942947498878181"
      ]
     },
     "execution_count": 22,
     "metadata": {},
     "output_type": "execute_result"
    }
   ],
   "source": [
    "mod.score(xt,yt)"
   ]
  },
  {
   "cell_type": "code",
   "execution_count": 23,
   "id": "b897c3ec",
   "metadata": {
    "execution": {
     "iopub.execute_input": "2022-06-13T10:19:44.085342Z",
     "iopub.status.busy": "2022-06-13T10:19:44.084280Z",
     "iopub.status.idle": "2022-06-13T10:19:44.848726Z",
     "shell.execute_reply": "2022-06-13T10:19:44.847661Z"
    },
    "papermill": {
     "duration": 0.781532,
     "end_time": "2022-06-13T10:19:44.851667",
     "exception": false,
     "start_time": "2022-06-13T10:19:44.070135",
     "status": "completed"
    },
    "tags": []
   },
   "outputs": [
    {
     "data": {
      "text/plain": [
       "0.9724679487179487"
      ]
     },
     "execution_count": 23,
     "metadata": {},
     "output_type": "execute_result"
    }
   ],
   "source": [
    "mod.score(xtest,ytest)"
   ]
  },
  {
   "cell_type": "code",
   "execution_count": 24,
   "id": "e911f512",
   "metadata": {
    "execution": {
     "iopub.execute_input": "2022-06-13T10:19:44.883252Z",
     "iopub.status.busy": "2022-06-13T10:19:44.882855Z",
     "iopub.status.idle": "2022-06-13T10:19:45.123502Z",
     "shell.execute_reply": "2022-06-13T10:19:45.122443Z"
    },
    "papermill": {
     "duration": 0.260304,
     "end_time": "2022-06-13T10:19:45.126202",
     "exception": false,
     "start_time": "2022-06-13T10:19:44.865898",
     "status": "completed"
    },
    "tags": []
   },
   "outputs": [
    {
     "data": {
      "text/plain": [
       "<AxesSubplot:>"
      ]
     },
     "execution_count": 24,
     "metadata": {},
     "output_type": "execute_result"
    },
    {
     "data": {
      "image/png": "[encoded data removed]",
      "text/plain": [
       "<Figure size 432x288 with 2 Axes>"
      ]
     },
     "metadata": {
      "needs_background": "light"
     },
     "output_type": "display_data"
    }
   ],
   "source": [
    "sns.heatmap(confusion_matrix(ytest,pred),annot=True,cmap='Blues')"
   ]
  },
  {
   "cell_type": "code",
   "execution_count": 25,
   "id": "3213d5a7",
   "metadata": {
    "execution": {
     "iopub.execute_input": "2022-06-13T10:19:45.153896Z",
     "iopub.status.busy": "2022-06-13T10:19:45.153469Z",
     "iopub.status.idle": "2022-06-13T10:19:45.175490Z",
     "shell.execute_reply": "2022-06-13T10:19:45.174435Z"
    },
    "papermill": {
     "duration": 0.038543,
     "end_time": "2022-06-13T10:19:45.177677",
     "exception": false,
     "start_time": "2022-06-13T10:19:45.139134",
     "status": "completed"
    },
    "tags": []
   },
   "outputs": [
    {
     "data": {
      "text/plain": [
       "0.9724679487179487"
      ]
     },
     "execution_count": 25,
     "metadata": {},
     "output_type": "execute_result"
    }
   ],
   "source": [
    "f1_score(ytest,pred,average='micro')"
   ]
  },
  {
   "cell_type": "code",
   "execution_count": null,
   "id": "d3e3dc5c",
   "metadata": {
    "papermill": {
     "duration": 0.012692,
     "end_time": "2022-06-13T10:19:45.204824",
     "exception": false,
     "start_time": "2022-06-13T10:19:45.192132",
     "status": "completed"
    },
    "tags": []
   },
   "outputs": [],
   "source": []
  }
 ],
 "metadata": {
  "kernelspec": {
   "display_name": "Python 3",
   "language": "python",
   "name": "python3"
  },
  "language_info": {
   "codemirror_mode": {
    "name": "ipython",
    "version": 3
   },
   "file_extension": ".py",
   "mimetype": "text/x-python",
   "name": "python",
   "nbconvert_exporter": "python",
   "pygments_lexer": "ipython3",
   "version": "3.7.12"
  },
  "papermill": {
   "default_parameters": {},
   "duration": 37.733778,
   "end_time": "2022-06-13T10:19:46.241924",
   "environment_variables": {},
   "exception": null,
   "input_path": "__notebook__.ipynb",
   "output_path": "__notebook__.ipynb",
   "parameters": {},
   "start_time": "2022-06-13T10:19:08.508146",
   "version": "2.3.4"
  }
 },
 "nbformat": 4,
 "nbformat_minor": 5
}
